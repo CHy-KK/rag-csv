{
 "cells": [
  {
   "cell_type": "code",
   "execution_count": 17,
   "metadata": {},
   "outputs": [],
   "source": [
    "import os\n",
    "import os.path as osp\n",
    "import sys\n",
    "import logging\n",
    "import csv\n",
    "import io\n",
    "import base64\n",
    "import ast\n",
    "\n",
    "from tqdm import tqdm\n",
    "import json\n",
    "\n",
    "\n",
    "import matplotlib.pyplot as plt\n",
    "import matplotlib.image as mpimg\n",
    "from mpl_toolkits.mplot3d import Axes3D\n",
    "from matplotlib.backends.backend_agg import FigureCanvasAgg as FigureCanvas  \n",
    "from scipy.interpolate import griddata\n",
    "from scipy.interpolate import RegularGridInterpolator\n",
    "\n",
    "\n",
    "\n",
    "from flask import Flask, jsonify, request, render_template\n",
    "from flask_cors import CORS \n",
    "from ragutils import ChatGpt, ragChat\n",
    "from langchain_openai import ChatOpenAI\n",
    "import importlib\n",
    "from langchain.schema import (\n",
    "    SystemMessage,\n",
    "    HumanMessage,\n",
    "    AIMessage\n",
    ")\n",
    "from langchain_openai import OpenAIEmbeddings\n",
    "from langchain.vectorstores import Chroma\n",
    "from langchain_core.documents import Document\n",
    "\n",
    "\n"
   ]
  },
  {
   "cell_type": "code",
   "execution_count": 3,
   "metadata": {},
   "outputs": [
    {
     "name": "stdout",
     "output_type": "stream",
     "text": [
      "initializing\n"
     ]
    },
    {
     "name": "stderr",
     "output_type": "stream",
     "text": [
      "130343it [00:01, 123527.68it/s]\n"
     ]
    },
    {
     "name": "stdout",
     "output_type": "stream",
     "text": [
      "dict_keys(['source_object_class', 'faucet', 'cap', 'plant', 'cabinet', 'bookshelf', 'knife', 'table', 'skateboard', 'mug', 'vase', 'pistol', 'flowerpot', 'clock', 'chair', 'bathtub', 'bottle', 'display', 'bag', 'trashbin', 'scissors', 'person', 'helmet', 'bowl', 'airplane', 'guitar', 'dresser', 'bed', 'sofa', 'bench', 'lamp'])\n"
     ]
    }
   ],
   "source": [
    "\n",
    "modelDict = dict()\n",
    "with open ('./shapetalk.csv', 'r', encoding='gbk') as f:\n",
    "    counter = 0\n",
    "    print('initializing')\n",
    "    reader = csv.reader(f)\n",
    "    for row in tqdm(reader):\n",
    "        if (row[6] in modelDict):\n",
    "            for i in range(1, 5):\n",
    "                if (row[i] != ''):\n",
    "                    modelDict[row[6]].add(row[i])\n",
    "        else:\n",
    "            modelDict[row[6]] = set()\n",
    "        counter += 1\n",
    "\n",
    "modelDict.pop('ShapeNet')\n",
    "print (modelDict.keys())\n",
    "embed_model = OpenAIEmbeddings(base_url=\"https://api3.apifans.com/v1\")\n",
    "\n",
    "vaseDocs = []\n",
    "vaseId = []\n",
    "i = 0\n",
    "for sentence in list(modelDict['vase']):\n",
    "    vaseDocs.append(Document(page_content=sentence))\n",
    "    vaseId.append('vase' + str(i))\n",
    "    i += 1\n",
    "\n"
   ]
  },
  {
   "cell_type": "code",
   "execution_count": 4,
   "metadata": {},
   "outputs": [],
   "source": [
    "\n",
    "vectorstore = Chroma.from_documents(documents=vaseDocs, embedding=embed_model, collection_name=\"model_discription_embed\")"
   ]
  },
  {
   "cell_type": "code",
   "execution_count": 5,
   "metadata": {},
   "outputs": [
    {
     "name": "stdout",
     "output_type": "stream",
     "text": [
      "<langchain_community.vectorstores.chroma.Chroma object at 0x7fa3bd1efca0>\n"
     ]
    }
   ],
   "source": [
    "print (vectorstore)"
   ]
  },
  {
   "cell_type": "code",
   "execution_count": 7,
   "metadata": {},
   "outputs": [
    {
     "data": {
      "text/plain": [
       "[Document(metadata={}, page_content='The vase is a flower vase.'),\n",
       " Document(metadata={}, page_content='The vase has flowers in it'),\n",
       " Document(metadata={}, page_content='The vase is holding flowers'),\n",
       " Document(metadata={}, page_content='The top of the vase is open'),\n",
       " Document(metadata={}, page_content='The vase is a bowl.')]"
      ]
     },
     "execution_count": 7,
     "metadata": {},
     "output_type": "execute_result"
    }
   ],
   "source": [
    "query = \"How can I change the vase?\"\n",
    "result = vectorstore.similarity_search(query ,k = 5)\n",
    "result"
   ]
  },
  {
   "cell_type": "code",
   "execution_count": 8,
   "metadata": {},
   "outputs": [],
   "source": [
    "\n",
    "ragClient = ragChat()"
   ]
  },
  {
   "cell_type": "code",
   "execution_count": 15,
   "metadata": {},
   "outputs": [
    {
     "name": "stdout",
     "output_type": "stream",
     "text": [
      "[\n",
      "    {\"foot\": \"more round\"}\n",
      "]\n"
     ]
    }
   ],
   "source": [
    "source_knowledge = 'The target\\'s foot is more round and the vase is with builtiful color.'\n",
    "modelClass = 'vase'\n",
    "prompt_template = f\"\"\"以下内容为对一个{modelClass}类型物体的外型描述，请分析以下内容，并将内容按照格式以键值对的方式拆分，其中键为内容中对该物体提及的部位，如果是对整体外型的描述则直接用{modelClass}作为键，值为该部位对应的描述。请返回给我一个python键值对列表。不要使用代码格式返回:\n",
    "\n",
    "内容:\n",
    "{source_knowledge}\n",
    "\n",
    "\"\"\"\n",
    "ragClient.pushUserMessage(prompt_template)\n",
    "answer = ragClient.getGptMsg()\n",
    "print (answer)\n"
   ]
  },
  {
   "cell_type": "code",
   "execution_count": 19,
   "metadata": {},
   "outputs": [
    {
     "name": "stdout",
     "output_type": "stream",
     "text": [
      "[{'foot': 'more round'}]\n"
     ]
    }
   ],
   "source": [
    "parsedStr = json.loads(answer)\n",
    "print (parsedStr)"
   ]
  }
 ],
 "metadata": {
  "kernelspec": {
   "display_name": "Python 3.10.12 ('myconda')",
   "language": "python",
   "name": "python3"
  },
  "language_info": {
   "codemirror_mode": {
    "name": "ipython",
    "version": 3
   },
   "file_extension": ".py",
   "mimetype": "text/x-python",
   "name": "python",
   "nbconvert_exporter": "python",
   "pygments_lexer": "ipython3",
   "version": "3.10.12"
  },
  "orig_nbformat": 4,
  "vscode": {
   "interpreter": {
    "hash": "ccc93251d6f721491c6fbc0c6bcbe4e9a605d28f77b9a8e19b15e1c61d18557e"
   }
  }
 },
 "nbformat": 4,
 "nbformat_minor": 2
}
