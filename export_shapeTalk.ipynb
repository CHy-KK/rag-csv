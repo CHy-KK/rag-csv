{
 "cells": [
  {
   "cell_type": "code",
   "execution_count": 3,
   "metadata": {},
   "outputs": [],
   "source": [
    "import os\n",
    "import os.path as osp\n",
    "import sys\n",
    "import logging\n",
    "import csv\n",
    "import io\n",
    "import base64\n",
    "import ast\n",
    "\n",
    "from tqdm import tqdm\n",
    "import json\n",
    "\n",
    "\n",
    "import matplotlib.pyplot as plt\n",
    "import matplotlib.image as mpimg\n",
    "from mpl_toolkits.mplot3d import Axes3D\n",
    "from matplotlib.backends.backend_agg import FigureCanvasAgg as FigureCanvas  \n",
    "from scipy.interpolate import griddata\n",
    "from scipy.interpolate import RegularGridInterpolator\n",
    "\n",
    "\n",
    "\n",
    "from flask import Flask, jsonify, request, render_template\n",
    "from flask_cors import CORS \n",
    "from ragutils import ChatGpt, ragChat\n",
    "from langchain_openai import ChatOpenAI\n",
    "import importlib\n",
    "from langchain.schema import (\n",
    "    SystemMessage,\n",
    "    HumanMessage,\n",
    "    AIMessage\n",
    ")\n",
    "from langchain_openai import OpenAIEmbeddings\n",
    "from langchain.vectorstores import Chroma\n",
    "from langchain_core.documents import Document\n",
    "\n",
    "\n"
   ]
  },
  {
   "cell_type": "code",
   "execution_count": 15,
   "metadata": {},
   "outputs": [
    {
     "name": "stdout",
     "output_type": "stream",
     "text": [
      "initializing\n"
     ]
    },
    {
     "name": "stderr",
     "output_type": "stream",
     "text": [
      "130343it [00:00, 145688.24it/s]\n"
     ]
    },
    {
     "name": "stdout",
     "output_type": "stream",
     "text": [
      "dict_keys(['faucet', 'cap', 'plant', 'cabinet', 'bookshelf', 'knife', 'table', 'skateboard', 'mug', 'vase', 'pistol', 'flowerpot', 'clock', 'chair', 'bathtub', 'bottle', 'display', 'bag', 'trashbin', 'scissors', 'person', 'helmet', 'bowl', 'airplane', 'guitar', 'dresser', 'bed', 'sofa', 'bench', 'lamp'])\n",
      "faucet-7041\n",
      "cap-2094\n",
      "plant-2687\n",
      "cabinet-2578\n",
      "bookshelf-8247\n",
      "knife-4915\n",
      "table-46480\n",
      "skateboard-1980\n",
      "mug-1491\n",
      "vase-7016\n",
      "pistol-3660\n",
      "flowerpot-5625\n",
      "clock-6116\n",
      "chair-39479\n",
      "bathtub-8594\n",
      "bottle-4149\n",
      "display-8047\n",
      "bag-2726\n",
      "trashbin-4056\n",
      "scissors-715\n",
      "person-1768\n",
      "helmet-1451\n",
      "bowl-1852\n",
      "airplane-24645\n",
      "guitar-6823\n",
      "dresser-12808\n",
      "bed-6860\n",
      "sofa-29684\n",
      "bench-14045\n",
      "lamp-36758\n"
     ]
    }
   ],
   "source": [
    "modelDict = dict()\n",
    "with open ('./shapetalk.csv', 'r', encoding='gbk') as f:\n",
    "    counter = 0\n",
    "    print('initializing')\n",
    "    reader = csv.reader(f)\n",
    "    for row in tqdm(reader):\n",
    "        if (row[6] not in modelDict):\n",
    "            modelDict[row[6]] = set()\n",
    "        for i in range(1, 5):\n",
    "            if (row[i] != ''):\n",
    "                modelDict[row[6]].add(row[i])\n",
    "        counter += 1\n",
    "\n",
    "modelDict.pop('ShapeNet')\n",
    "modelDict.pop('source_object_class')\n",
    "print (modelDict.keys())\n",
    "\n",
    "# for sentence in list(modelDict['vase']):\n",
    "#     vaseDocs.append(Document(page_content=sentence))\n",
    "#     vaseId.append('vase' + str(i))\n",
    "#     i += 1\n",
    "# 构造类名->描述文本，处理描述解析任务\n",
    "source_knowledge_dict = {}\n",
    "for key in modelDict.keys():\n",
    "    print (key + '-' + str(len(list(modelDict[key]))))\n",
    "    source_knowledge_dict[key] = []\n",
    "    sentenCounter = 0\n",
    "    longSentences = ''\n",
    "    for sentence in modelDict[key]:\n",
    "        # 划分一百句为一个整体\n",
    "        if (sentenCounter == 100):\n",
    "            source_knowledge_dict[key].append(longSentences)\n",
    "            longSentences = ''\n",
    "            sentenCounter = 0\n",
    "        longSentences += sentence + '\\n'\n",
    "        sentenCounter += 1\n",
    "    if (sentenCounter > 0):\n",
    "        source_knowledge_dict[key].append(longSentences)\n",
    "        longSentences = ''\n",
    "        sentenCounter = 0\n",
    "        \n",
    "# 构造类名->描述句子，将句子转换为embedding，每类只取200句\n",
    "discriptionDocs = {}\n",
    "for key in modelDict.keys():\n",
    "    sentenCounter = 0\n",
    "    discriptionDocs[key] = []\n",
    "    for sentence in modelDict[key]:\n",
    "        discriptionDocs[key].append(Document(page_content=sentence))\n",
    "        sentenCounter += 1\n",
    "        if (sentenCounter > 200):\n",
    "            sentenCounter = 0\n",
    "            break\n",
    "\n",
    "# print (discriptionDocs)\n",
    "# print (source_knowledge_dict)\n",
    "# source_class = 'cap'\n",
    "# for sentence in modelDict['cap']:\n",
    "#     source_knowledge_cap += sentence + '\\n'\n",
    "# print(source_knowledge_cap)"
   ]
  },
  {
   "cell_type": "code",
   "execution_count": 16,
   "metadata": {},
   "outputs": [
    {
     "name": "stdout",
     "output_type": "stream",
     "text": [
      "当前进度：lamp-201101111{'faucet': <langchain_community.vectorstores.chroma.Chroma object at 0x7f732d8436d0>, 'cap': <langchain_community.vectorstores.chroma.Chroma object at 0x7f732ba851b0>, 'plant': <langchain_community.vectorstores.chroma.Chroma object at 0x7f732d88dff0>, 'cabinet': <langchain_community.vectorstores.chroma.Chroma object at 0x7f732ba87490>, 'bookshelf': <langchain_community.vectorstores.chroma.Chroma object at 0x7f732d88e0b0>, 'knife': <langchain_community.vectorstores.chroma.Chroma object at 0x7f732ba87790>, 'table': <langchain_community.vectorstores.chroma.Chroma object at 0x7f732d88eda0>, 'skateboard': <langchain_community.vectorstores.chroma.Chroma object at 0x7f732ba86980>, 'mug': <langchain_community.vectorstores.chroma.Chroma object at 0x7f732d88db10>, 'vase': <langchain_community.vectorstores.chroma.Chroma object at 0x7f732ba87370>, 'pistol': <langchain_community.vectorstores.chroma.Chroma object at 0x7f732d88e7d0>, 'flowerpot': <langchain_community.vectorstores.chroma.Chroma object at 0x7f732ba87760>, 'clock': <langchain_community.vectorstores.chroma.Chroma object at 0x7f732b9dc250>, 'chair': <langchain_community.vectorstores.chroma.Chroma object at 0x7f732d88fb20>, 'bathtub': <langchain_community.vectorstores.chroma.Chroma object at 0x7f732ba85e70>, 'bottle': <langchain_community.vectorstores.chroma.Chroma object at 0x7f732b9dcfd0>, 'display': <langchain_community.vectorstores.chroma.Chroma object at 0x7f732d88e800>, 'bag': <langchain_community.vectorstores.chroma.Chroma object at 0x7f732ba86c80>, 'trashbin': <langchain_community.vectorstores.chroma.Chroma object at 0x7f732d88e050>, 'scissors': <langchain_community.vectorstores.chroma.Chroma object at 0x7f732ba842e0>, 'person': <langchain_community.vectorstores.chroma.Chroma object at 0x7f732d88ea40>, 'helmet': <langchain_community.vectorstores.chroma.Chroma object at 0x7f732ba84d30>, 'bowl': <langchain_community.vectorstores.chroma.Chroma object at 0x7f732d88ee60>, 'airplane': <langchain_community.vectorstores.chroma.Chroma object at 0x7f732d88fb50>, 'guitar': <langchain_community.vectorstores.chroma.Chroma object at 0x7f732b9dc160>, 'dresser': <langchain_community.vectorstores.chroma.Chroma object at 0x7f732ba85000>, 'bed': <langchain_community.vectorstores.chroma.Chroma object at 0x7f732b9df280>, 'sofa': <langchain_community.vectorstores.chroma.Chroma object at 0x7f732ba86dd0>, 'bench': <langchain_community.vectorstores.chroma.Chroma object at 0x7f732b9dea40>, 'lamp': <langchain_community.vectorstores.chroma.Chroma object at 0x7f732ba859f0>}\n"
     ]
    }
   ],
   "source": [
    "# 这里会消耗巨量tokens，慎用\n",
    "embed_model = OpenAIEmbeddings(base_url=\"https://api3.apifans.com/v1\")\n",
    "vectorstore = {}\n",
    "for key in discriptionDocs.keys():\n",
    "    print(f\"\\r当前进度：{key}-{len(discriptionDocs[key])}\", end='')\n",
    "    vectorstore[key] = Chroma.from_documents(documents=discriptionDocs[key], embedding=embed_model, collection_name=\"model_discription_embed\")\n",
    "print (vectorstore)"
   ]
  },
  {
   "cell_type": "code",
   "execution_count": 17,
   "metadata": {},
   "outputs": [
    {
     "name": "stdout",
     "output_type": "stream",
     "text": [
      "[Document(metadata={}, page_content='The vase gets narrower as it goes from the base to the top'), Document(metadata={}, page_content='it has sharp edges and corners'), Document(metadata={}, page_content=\"It doesn't look like a bell.\"), Document(metadata={}, page_content='The target is filled with flowers inside it.'), Document(metadata={}, page_content='The body ofthe target is thinner and smaller.'), Document(metadata={}, page_content='The lips are more pronounced.'), Document(metadata={}, page_content='The mouth ofthe target hasa smaller opening.'), Document(metadata={}, page_content=\"It looks like an upside down chess Hershey's Kiss.\"), Document(metadata={}, page_content='The target has a shorter base.'), Document(metadata={}, page_content='Has a wider lip'), Document(metadata={}, page_content='There is a neck and it is longer'), Document(metadata={}, page_content='The body is fatter.'), Document(metadata={}, page_content='You can see through more of it.'), Document(metadata={}, page_content=\"The bottom of the target's body is larger than the mouth or foot/bottom.\"), Document(metadata={}, page_content='Wide mouth'), Document(metadata={}, page_content='It is circular.'), Document(metadata={}, page_content='The foot is much smaller than the body.'), Document(metadata={}, page_content=\"It doesn't look like a tarsh can.\"), Document(metadata={}, page_content='There are no rings surrounding the body and neck.'), Document(metadata={}, page_content='Target has a ridge on the base'), Document(metadata={}, page_content='The top is slanted'), Document(metadata={}, page_content='The nouth of the vase is square'), Document(metadata={}, page_content='The target is more square/rectangular shaped.'), Document(metadata={}, page_content='The handles of the target are longer and thinner.'), Document(metadata={}, page_content='the body is twisted'), Document(metadata={}, page_content='It looks like a jagged rock.'), Document(metadata={}, page_content='The neck of the target is thinner and narrower.'), Document(metadata={}, page_content='The body is not filled in'), Document(metadata={}, page_content='The shoulder is rounded.'), Document(metadata={}, page_content='the broadest part is towards the bottom.'), Document(metadata={}, page_content='The body is of cylindrical shape'), Document(metadata={}, page_content='The body does not waver from convex to concave.'), Document(metadata={}, page_content=\"There's a flower in it.\"), Document(metadata={}, page_content='The narrowest ponit is higher.'), Document(metadata={}, page_content='Its mouth has a wide rounded lip.'), Document(metadata={}, page_content='It appears elevated.'), Document(metadata={}, page_content=\"Target's has no elevated base or foot\"), Document(metadata={}, page_content='The body of the vase is skinny in the middle.'), Document(metadata={}, page_content='It is not a cylindrical vase.'), Document(metadata={}, page_content='The neck is a bit thicker.'), Document(metadata={}, page_content='It has a rounder body'), Document(metadata={}, page_content='The mouth is square cover'), Document(metadata={}, page_content='The body of the target has a long, black line jotting down it.'), Document(metadata={}, page_content='the target is composed of rings'), Document(metadata={}, page_content='it has a handle at the top'), Document(metadata={}, page_content=\"It doesn't look like a chess pawn.\"), Document(metadata={}, page_content='It has a shorter neck.'), Document(metadata={}, page_content='The vase has a long thin neck'), Document(metadata={}, page_content='It appears to have tubes.'), Document(metadata={}, page_content='The mouth is a circle.'), Document(metadata={}, page_content='The neck is considerably wider.'), Document(metadata={}, page_content='the opening at the top is more cylindrical'), Document(metadata={}, page_content='Has a body of all one length'), Document(metadata={}, page_content=\"The separation of neck from shoulder doesn't have a sharp angle.\"), Document(metadata={}, page_content='the top is rounded and smooth'), Document(metadata={}, page_content='The top of the target does not have a handle on it.'), Document(metadata={}, page_content=\"The target's foot is square, while the distractor's is round.\"), Document(metadata={}, page_content='The body of the target is a sphere on top of a bowl.'), Document(metadata={}, page_content='In the middle the top piece is larger than the bottom'), Document(metadata={}, page_content='The neck of the target is longer and taler.'), Document(metadata={}, page_content='Has a larger fillet'), Document(metadata={}, page_content=\"The target's foot/bottom is round.\"), Document(metadata={}, page_content='Its body is less like a sphere at the top.'), Document(metadata={}, page_content='it has no foot'), Document(metadata={}, page_content='The target actually has a small plant sticking out of it.'), Document(metadata={}, page_content='the body of the target is shaped like an egg.'), Document(metadata={}, page_content='It is not rectangular.'), Document(metadata={}, page_content='Going downwards, it starts turning inwards at a higher up point.'), Document(metadata={}, page_content='the ball at the bottom of the body is smaller'), Document(metadata={}, page_content=\"Thetarget's lip does not curve down.\"), Document(metadata={}, page_content='There is a fillet'), Document(metadata={}, page_content='the base is the widest'), Document(metadata={}, page_content='It is widest at the top.'), Document(metadata={}, page_content='The base has a platform.'), Document(metadata={}, page_content='The mouth of the target is narrower and thinner.'), Document(metadata={}, page_content='The target is a bottle vase.'), Document(metadata={}, page_content=\"It doesn't look like a pill bottlel.\"), Document(metadata={}, page_content='The target has a thicker, smaller foot.'), Document(metadata={}, page_content='The neck of the target is taller and longer.'), Document(metadata={}, page_content='The neck of the target  is thinner and narrower.'), Document(metadata={}, page_content='the side has a lip'), Document(metadata={}, page_content='The body of the  target looks like a perfect sphere.'), Document(metadata={}, page_content='The top of the target has words written on it.'), Document(metadata={}, page_content='the body is smaller in diameter'), Document(metadata={}, page_content='The entire upper half of target looks like a funnel'), Document(metadata={}, page_content='it has no opening at the top'), Document(metadata={}, page_content='The pot is not rounded.'), Document(metadata={}, page_content='The target does not have an hourglass shape'), Document(metadata={}, page_content='Its base is circular.'), Document(metadata={}, page_content='has a bigger body'), Document(metadata={}, page_content='The body and shoulder are wider.'), Document(metadata={}, page_content='The foot of the target is smaller and less wide.'), Document(metadata={}, page_content='Body is not cylindrical in shape.'), Document(metadata={}, page_content='The body of the target is more ovular in shape.'), Document(metadata={}, page_content='The target is not shaped like a ball.'), Document(metadata={}, page_content='the target is taller'), Document(metadata={}, page_content='It does not have many bars running along its height.'), Document(metadata={}, page_content='The base of the vase is curved'), Document(metadata={}, page_content=\"There's a stem on the bottom.\"), Document(metadata={}, page_content='It is a bottle vase. The'), Document(metadata={}, page_content='The vase does not have a lip.'), Document(metadata={}, page_content='The lip looks like a funnel.'), Document(metadata={}, page_content='Has a thin lip.'), Document(metadata={}, page_content=\"The lips don't angle outwards.\"), Document(metadata={}, page_content=\"It doesn't look like a mug on top of a pumpkin.\"), Document(metadata={}, page_content='the foot is smaller than the mouth'), Document(metadata={}, page_content='It does not have a true foot'), Document(metadata={}, page_content=\"The target's lip curves over the neck.\"), Document(metadata={}, page_content='You cannot see the water level in the target.'), Document(metadata={}, page_content=\"There's not an angled shoulder.\"), Document(metadata={}, page_content='The vase has a flat bottom with no foot.'), Document(metadata={}, page_content='The body of the target looks like a cylinder.'), Document(metadata={}, page_content='The footprint is less round.'), Document(metadata={}, page_content='it has an indent running through its center,'), Document(metadata={}, page_content='The lip of the target is not curving outward.'), Document(metadata={}, page_content='Has angles for a body'), Document(metadata={}, page_content='The lips are skinnier.'), Document(metadata={}, page_content='The shoulder is fatter.'), Document(metadata={}, page_content='It has a word on it.'), Document(metadata={}, page_content='Plant has longer leaves'), Document(metadata={}, page_content='THe mouth is smaller.'), Document(metadata={}, page_content='The base has ridges'), Document(metadata={}, page_content='It looks less like a beer mug.'), Document(metadata={}, page_content='Target has a wide mouth'), Document(metadata={}, page_content=\"The bottom doesn't look like a cereal bowl.\"), Document(metadata={}, page_content='Its body is more rounded.'), Document(metadata={}, page_content='The neck is smaller'), Document(metadata={}, page_content='The target has flowers.'), Document(metadata={}, page_content='It is very wide at the base compared to the neck.'), Document(metadata={}, page_content='The body of the target looks like half a sphere.'), Document(metadata={}, page_content='The body tapers into the narrow fillet.'), Document(metadata={}, page_content='The overall stature of the vase is shorter'), Document(metadata={}, page_content=\"the body of the target is wider than the distractor's.\"), Document(metadata={}, page_content=\"It's narrower.\"), Document(metadata={}, page_content='It is larger in diameter at its largest point.'), Document(metadata={}, page_content='It has a bulbous center section.'), Document(metadata={}, page_content='The target has a larger base'), Document(metadata={}, page_content='The body has a chipped broken part.'), Document(metadata={}, page_content='There is only one flower in the vase.'), Document(metadata={}, page_content='The lip is not flat on top.'), Document(metadata={}, page_content=\"The lips aren't as wide.\"), Document(metadata={}, page_content='It looks like a stack of bricks.'), Document(metadata={}, page_content='The filet is in the middle of the base'), Document(metadata={}, page_content='the neck of the target is wider.'), Document(metadata={}, page_content=\"It's more angular.\"), Document(metadata={}, page_content='The foot of the target has more prounced edges and looks like a trapezoid.'), Document(metadata={}, page_content='The neck has a greater height.'), Document(metadata={}, page_content='The target is longer than the distractor.'), Document(metadata={}, page_content=\"The lip's more rounded.\"), Document(metadata={}, page_content='The lip is less noticeable.'), Document(metadata={}, page_content=\"The neck's skinnier.\"), Document(metadata={}, page_content='The target has a smaller mouth'), Document(metadata={}, page_content='The overall height is shorter'), Document(metadata={}, page_content='the body is the widest part'), Document(metadata={}, page_content='the mouth opening is chipped all around'), Document(metadata={}, page_content='It has no base'), Document(metadata={}, page_content=\"It doesn't like a pumpkin.\"), Document(metadata={}, page_content=\"The target's neck is slimmer and smaller than the other vase's.\"), Document(metadata={}, page_content='Target has shorter visible decorative lines'), Document(metadata={}, page_content='THE BODY IS CIRCULAR'), Document(metadata={}, page_content='The neck of the target is narrowers.'), Document(metadata={}, page_content='The target has a bigger mouth.'), Document(metadata={}, page_content='Its neck has a bulge like a sphere is in it.'), Document(metadata={}, page_content=\"It doesn't have fern-like leaves protruding from the mouth.\"), Document(metadata={}, page_content='The foot of the vase is the widest part of the vase.'), Document(metadata={}, page_content='The vase has a thinner  neck'), Document(metadata={}, page_content='Very narrow mouth'), Document(metadata={}, page_content='The body of the target has a square body.'), Document(metadata={}, page_content='has a smaller mouth'), Document(metadata={}, page_content='It has a larger base.'), Document(metadata={}, page_content='The body of the target has round grooves at the ends.'), Document(metadata={}, page_content='The mouth and lip are very small.'), Document(metadata={}, page_content='It has a larger base'), Document(metadata={}, page_content=\"It's less ornate.\"), Document(metadata={}, page_content='the lip is shorter'), Document(metadata={}, page_content='Wide body'), Document(metadata={}, page_content='The target has flowers with more numerous petals.'), Document(metadata={}, page_content='it is not symmetrical'), Document(metadata={}, page_content='The body is more rotund.'), Document(metadata={}, page_content='the body is longer in height m'), Document(metadata={}, page_content='the foot is curved'), Document(metadata={}, page_content='The body is wider on the top half of it'), Document(metadata={}, page_content='The body is vertically smooth.'), Document(metadata={}, page_content='It has a more separate foot.'), Document(metadata={}, page_content='The lip is extraordinarily wide and concave.'), Document(metadata={}, page_content='The neck of the target is more angular and less circular.'), Document(metadata={}, page_content='The foot of the target is not angular and is round.'), Document(metadata={}, page_content='The edges of the lid on the target are thicker.'), Document(metadata={}, page_content='Has a one piece body'), Document(metadata={}, page_content='The lips are concave.'), Document(metadata={}, page_content='it is slimmer in the middle'), Document(metadata={}, page_content='The top of the target looks like a bell.'), Document(metadata={}, page_content='The base is not rounded.'), Document(metadata={}, page_content='its body is spherical.'), Document(metadata={}, page_content='The mouth is open'), Document(metadata={}, page_content=\"It doesn't look like a pill bottle.\"), Document(metadata={}, page_content='The lips of the target are wider.'), Document(metadata={}, page_content='Its body is more circular.'), Document(metadata={}, page_content='The target is cylindrical'), Document(metadata={}, page_content=\"There's no lid on it.\"), Document(metadata={}, page_content='Its body has a sharp outward turn near the bottom.')]\n"
     ]
    }
   ],
   "source": [
    "print(discriptionDocs['vase'])"
   ]
  },
  {
   "cell_type": "code",
   "execution_count": 19,
   "metadata": {},
   "outputs": [
    {
     "ename": "TypeError",
     "evalue": "Object of type Chroma is not JSON serializable",
     "output_type": "error",
     "traceback": [
      "\u001b[0;31m---------------------------------------------------------------------------\u001b[0m",
      "\u001b[0;31mTypeError\u001b[0m                                 Traceback (most recent call last)",
      "Cell \u001b[0;32mIn[19], line 7\u001b[0m\n\u001b[1;32m      3\u001b[0m result\n\u001b[1;32m      6\u001b[0m \u001b[39mwith\u001b[39;00m \u001b[39mopen\u001b[39m(\u001b[39m'\u001b[39m\u001b[39mdiscription_embedding.json\u001b[39m\u001b[39m'\u001b[39m, \u001b[39m'\u001b[39m\u001b[39mw\u001b[39m\u001b[39m'\u001b[39m) \u001b[39mas\u001b[39;00m f:\n\u001b[0;32m----> 7\u001b[0m     json\u001b[39m.\u001b[39;49mdump(vectorstore, f)\n",
      "File \u001b[0;32m~/miniconda3/envs/myconda/lib/python3.10/json/__init__.py:179\u001b[0m, in \u001b[0;36mdump\u001b[0;34m(obj, fp, skipkeys, ensure_ascii, check_circular, allow_nan, cls, indent, separators, default, sort_keys, **kw)\u001b[0m\n\u001b[1;32m    173\u001b[0m     iterable \u001b[39m=\u001b[39m \u001b[39mcls\u001b[39m(skipkeys\u001b[39m=\u001b[39mskipkeys, ensure_ascii\u001b[39m=\u001b[39mensure_ascii,\n\u001b[1;32m    174\u001b[0m         check_circular\u001b[39m=\u001b[39mcheck_circular, allow_nan\u001b[39m=\u001b[39mallow_nan, indent\u001b[39m=\u001b[39mindent,\n\u001b[1;32m    175\u001b[0m         separators\u001b[39m=\u001b[39mseparators,\n\u001b[1;32m    176\u001b[0m         default\u001b[39m=\u001b[39mdefault, sort_keys\u001b[39m=\u001b[39msort_keys, \u001b[39m*\u001b[39m\u001b[39m*\u001b[39mkw)\u001b[39m.\u001b[39miterencode(obj)\n\u001b[1;32m    177\u001b[0m \u001b[39m# could accelerate with writelines in some versions of Python, at\u001b[39;00m\n\u001b[1;32m    178\u001b[0m \u001b[39m# a debuggability cost\u001b[39;00m\n\u001b[0;32m--> 179\u001b[0m \u001b[39mfor\u001b[39;00m chunk \u001b[39min\u001b[39;00m iterable:\n\u001b[1;32m    180\u001b[0m     fp\u001b[39m.\u001b[39mwrite(chunk)\n",
      "File \u001b[0;32m~/miniconda3/envs/myconda/lib/python3.10/json/encoder.py:431\u001b[0m, in \u001b[0;36m_make_iterencode.<locals>._iterencode\u001b[0;34m(o, _current_indent_level)\u001b[0m\n\u001b[1;32m    429\u001b[0m     \u001b[39myield from\u001b[39;00m _iterencode_list(o, _current_indent_level)\n\u001b[1;32m    430\u001b[0m \u001b[39melif\u001b[39;00m \u001b[39misinstance\u001b[39m(o, \u001b[39mdict\u001b[39m):\n\u001b[0;32m--> 431\u001b[0m     \u001b[39myield from\u001b[39;00m _iterencode_dict(o, _current_indent_level)\n\u001b[1;32m    432\u001b[0m \u001b[39melse\u001b[39;00m:\n\u001b[1;32m    433\u001b[0m     \u001b[39mif\u001b[39;00m markers \u001b[39mis\u001b[39;00m \u001b[39mnot\u001b[39;00m \u001b[39mNone\u001b[39;00m:\n",
      "File \u001b[0;32m~/miniconda3/envs/myconda/lib/python3.10/json/encoder.py:405\u001b[0m, in \u001b[0;36m_make_iterencode.<locals>._iterencode_dict\u001b[0;34m(dct, _current_indent_level)\u001b[0m\n\u001b[1;32m    403\u001b[0m         \u001b[39melse\u001b[39;00m:\n\u001b[1;32m    404\u001b[0m             chunks \u001b[39m=\u001b[39m _iterencode(value, _current_indent_level)\n\u001b[0;32m--> 405\u001b[0m         \u001b[39myield from\u001b[39;00m chunks\n\u001b[1;32m    406\u001b[0m \u001b[39mif\u001b[39;00m newline_indent \u001b[39mis\u001b[39;00m \u001b[39mnot\u001b[39;00m \u001b[39mNone\u001b[39;00m:\n\u001b[1;32m    407\u001b[0m     _current_indent_level \u001b[39m-\u001b[39m\u001b[39m=\u001b[39m \u001b[39m1\u001b[39m\n",
      "File \u001b[0;32m~/miniconda3/envs/myconda/lib/python3.10/json/encoder.py:438\u001b[0m, in \u001b[0;36m_make_iterencode.<locals>._iterencode\u001b[0;34m(o, _current_indent_level)\u001b[0m\n\u001b[1;32m    436\u001b[0m         \u001b[39mraise\u001b[39;00m \u001b[39mValueError\u001b[39;00m(\u001b[39m\"\u001b[39m\u001b[39mCircular reference detected\u001b[39m\u001b[39m\"\u001b[39m)\n\u001b[1;32m    437\u001b[0m     markers[markerid] \u001b[39m=\u001b[39m o\n\u001b[0;32m--> 438\u001b[0m o \u001b[39m=\u001b[39m _default(o)\n\u001b[1;32m    439\u001b[0m \u001b[39myield from\u001b[39;00m _iterencode(o, _current_indent_level)\n\u001b[1;32m    440\u001b[0m \u001b[39mif\u001b[39;00m markers \u001b[39mis\u001b[39;00m \u001b[39mnot\u001b[39;00m \u001b[39mNone\u001b[39;00m:\n",
      "File \u001b[0;32m~/miniconda3/envs/myconda/lib/python3.10/json/encoder.py:179\u001b[0m, in \u001b[0;36mJSONEncoder.default\u001b[0;34m(self, o)\u001b[0m\n\u001b[1;32m    160\u001b[0m \u001b[39mdef\u001b[39;00m \u001b[39mdefault\u001b[39m(\u001b[39mself\u001b[39m, o):\n\u001b[1;32m    161\u001b[0m \u001b[39m    \u001b[39m\u001b[39m\"\"\"Implement this method in a subclass such that it returns\u001b[39;00m\n\u001b[1;32m    162\u001b[0m \u001b[39m    a serializable object for ``o``, or calls the base implementation\u001b[39;00m\n\u001b[1;32m    163\u001b[0m \u001b[39m    (to raise a ``TypeError``).\u001b[39;00m\n\u001b[0;32m   (...)\u001b[0m\n\u001b[1;32m    177\u001b[0m \n\u001b[1;32m    178\u001b[0m \u001b[39m    \"\"\"\u001b[39;00m\n\u001b[0;32m--> 179\u001b[0m     \u001b[39mraise\u001b[39;00m \u001b[39mTypeError\u001b[39;00m(\u001b[39mf\u001b[39m\u001b[39m'\u001b[39m\u001b[39mObject of type \u001b[39m\u001b[39m{\u001b[39;00mo\u001b[39m.\u001b[39m\u001b[39m__class__\u001b[39m\u001b[39m.\u001b[39m\u001b[39m__name__\u001b[39m\u001b[39m}\u001b[39;00m\u001b[39m \u001b[39m\u001b[39m'\u001b[39m\n\u001b[1;32m    180\u001b[0m                     \u001b[39mf\u001b[39m\u001b[39m'\u001b[39m\u001b[39mis not JSON serializable\u001b[39m\u001b[39m'\u001b[39m)\n",
      "\u001b[0;31mTypeError\u001b[0m: Object of type Chroma is not JSON serializable"
     ]
    }
   ],
   "source": [
    "# query = \"The lips\"\n",
    "# result = vectorstore['vase'].similarity_search(query ,k = 5)\n",
    "# result\n",
    "print (vectorstore)\n",
    "\n",
    "# with open('discription_embedding.json', 'w') as f:\n",
    "#     json.dump(vectorstore, f, indent=4)"
   ]
  },
  {
   "cell_type": "code",
   "execution_count": 3,
   "metadata": {},
   "outputs": [
    {
     "name": "stdout",
     "output_type": "stream",
     "text": [
      "71\n",
      "21\n",
      "27\n",
      "26\n",
      "83\n",
      "50\n",
      "465\n",
      "20\n",
      "15\n",
      "71\n",
      "37\n",
      "57\n",
      "62\n",
      "395\n",
      "86\n",
      "42\n",
      "81\n",
      "28\n",
      "41\n",
      "8\n",
      "18\n",
      "15\n",
      "19\n",
      "247\n",
      "69\n",
      "129\n",
      "69\n",
      "297\n",
      "141\n",
      "368\n"
     ]
    }
   ],
   "source": [
    "\n",
    "\n",
    "for key in source_knowledge_dict.keys():\n",
    "    print (len(source_knowledge_dict[key]))"
   ]
  },
  {
   "cell_type": "code",
   "execution_count": 6,
   "metadata": {},
   "outputs": [
    {
     "name": "stdout",
     "output_type": "stream",
     "text": [
      "User: 以下内容为对一个vase的描述集合，将以下内容中的每一句按照格式以键值字典的方式拆分，键为该物体的部位，如果是对整体的描述则直接用vase作为键，值为该部位对应的描述。请返回给我一个键值字典列表，列表中每一项为一个键值字典。不要使用代码格式返回:\n",
      "\n",
      "内容:\n",
      "The target's foot is more round and the vase is with builtiful color, the top of it has a longger head\n",
      "The top of the vase is open\n",
      "The vase has flowers in it\n",
      "\n",
      "\n",
      "*************************************************\n",
      "AI: [\n",
      "  {\"foot\": \"more round\"},\n",
      "  {\"vase\": \"with beautiful color\"},\n",
      "  {\"top\": \"has a longer head\"},\n",
      "  {\"top\": \"is open\"},\n",
      "  {\"vase\": \"has flowers in it\"}\n",
      "]\n",
      "*************************************************\n"
     ]
    }
   ],
   "source": [
    "ragClient = ragChat()\n",
    "source_knowledge = 'The target\\'s foot is more round and the vase is with builtiful color, the top of it has a longger head\\nThe top of the vase is open\\nThe vase has flowers in it'\n",
    "modelClass = 'vase'\n",
    "prompt_template1 = f\"\"\"以下内容为对一个{modelClass}的描述集合，将以下内容中的每一句按照格式以键值字典的方式拆分，键为该物体的部位，如果是对整体的描述则直接用{modelClass}作为键，值为该部位对应的描述。请返回给我一个键值字典列表，列表中每一项为一个键值字典。不要使用代码格式返回:\n",
    "\n",
    "内容:\n",
    "{source_knowledge}\n",
    "\n",
    "\"\"\"\n",
    "ragClient.pushUserMessage(prompt_template1)\n",
    "\n",
    "# 以下操作消耗大量tokens\n",
    "answer = ragClient.getandpushGptMsg()\n",
    "ragClient.MessageHistory()"
   ]
  },
  {
   "cell_type": "code",
   "execution_count": 7,
   "metadata": {},
   "outputs": [
    {
     "name": "stdout",
     "output_type": "stream",
     "text": [
      "当前进度：lamp-11-1111"
     ]
    }
   ],
   "source": [
    "# ragClient = ragChat()\n",
    "\n",
    "# dict_keys(['faucet', 'cap', 'plant', 'cabinet', 'bookshelf', 'knife', 'table', \n",
    "# 'skateboard', 'mug', 'vase', 'pistol', 'flowerpot', 'clock', 'chair', 'bathtub', \n",
    "# 'bottle', 'display', 'bag', 'trashbin', 'scissors', 'person', 'helmet', 'bowl', \n",
    "# 'airplane', 'guitar', 'dresser', 'bed', 'sofa', 'bench', 'lamp'])\n",
    "part2Discription = {}\n",
    "for modelClass in source_knowledge_dict.keys():\n",
    "    # 先不处理长度大于一百万的句子，tokens撑不住\n",
    "# modelClass = 'faucet'\n",
    "    # if (len(source_knowledge_dict[modelClass]) < 10):\n",
    "    discription = dict()\n",
    "    index = 0\n",
    "    for sentences in source_knowledge_dict[modelClass]:\n",
    "        # 为了节省tokens，每个类只取前200句得了\n",
    "        if (index > 1):\n",
    "            break\n",
    "        print(f\"\\r当前进度：{modelClass}-{index}\", end='')\n",
    "        index += 1\n",
    "        prompt_template1 = f\"\"\"以下内容为对一个{modelClass}的描述集合，将以下内容中的每一句按照格式以键值字典的方式拆分，键为该物体的部位，如果是对整体的描述则直接用{modelClass}作为键，值为该部位对应的描述。请返回给我一个python键值字典列表，列表中每一项为一个键值字典。不要使用代码格式返回:\n",
    "    \n",
    "        内容:\n",
    "        {sentences}\n",
    "        \"\"\"\n",
    "        ragClient.pushUserMessage(prompt_template1)\n",
    "        answer = ragClient.getGptMsg()\n",
    "        parsedStr = json.loads(answer)\n",
    "        for dictEle in parsedStr:\n",
    "            for key in dictEle.keys():\n",
    "                if key in discription:\n",
    "                    discription[key].add(dictEle[key])\n",
    "                else:\n",
    "                    discription[key] = set()\n",
    "                    discription[key].add(dictEle[key])\n",
    "        ragClient.deleteMessage()\n",
    "    for key in discription.keys():\n",
    "        discription[key] = list(discription[key])\n",
    "    part2Discription[modelClass] = discription\n",
    "\n"
   ]
  },
  {
   "cell_type": "code",
   "execution_count": 10,
   "metadata": {},
   "outputs": [
    {
     "name": "stdout",
     "output_type": "stream",
     "text": [
      "{'top': ['pointy', 'hat shaped', 'has triangles and a ball shape in the middle', 'is larger than its bottom'], 'feet': ['3 small under the square base'], 'tube': ['is curved', 'has a rounded bend at the top', 'does not extend out beyond the footprint of the base', 'longest is thinner', 'thinner'], 'shade': ['does not have a circular shape', 'contains a tassel', 'has a taper square shape', 'is tulip shaped', 'extended out by thin chords', 'very small and scooped shaped', 'Pembroke Empire shape', 'longer and wider', 'comes to more of a point', \"isn't solid\", 'has rod in the center', 'has a conical top', 'pointed at the top', 'conical shade points the light straight up', 'does not have a scalloped top', 'is longer', 'is a separate part, not part of the lamp itself', 'has gaps in it', 'rounder, globular', 'does not have a shape like a half cylinder', 'tapered drum', 'not as wide', 'smaller opening', 'has an open top', 'resembles a book', 'has sphere in the middle', 'giant', 'long, vertical and flared upward toward ceiling', 'does not have a metal grate at the bottom', 'has a chain hanging down from it', 'is more narrow on the top', 'is held by five thin chains', 'is more square', 'has an indent line that cuts into its lower mid section'], 'light post': ['visible and cylindrical'], 'lamp': ['not a full ball shape', 'has two lights', 'has a single long pole', 'ceiling rather than a desk', \"doesn't have a pull cord\", 'does not have an element which can extend as far', 'has scrollwork details', 'does not have significant vertical lines', 'has two poles', 'has a more curly shape', 'does not have any visible cables', 'shorter in length', 'has a canopy', 'hanging', 'not cone shaped', 'much less height', 'does not have a base', 'has three supporting cables', \"doesn't have a lamp shade\", 'is shaped like a candle', 'has no solid base', 'does not have an adjustable neck', 'has two lamps', 'has nothing on the top', 'ornate', 'has a different lampshade', 'does not have a square shade', 'has a cable', 'has a cage over the bulb', 'has tiny poles sticking out of the side', 'has no circular divots', 'single', 'two wires', 'slightly taller', 'has a longer pole which extends from the base', \"doesn't have a rounded shade\", 'lacks a shade', 'sits in a frame', 'has no flat base', 'has a very thin pole holding it up', 'has numerous shades', 'has five lights', '3 light fixtures', 'has a tripod stand', 'hangs lower', 'does not have a sphere at the top', 'only nine bulbs'], 'stem': ['longer'], 'light portion': ['not as slimmer'], 'pole': ['larger', 'is straight with no intersecting decorations', 'is longer', 'is taller', 'coming down from the bottom of the shade is visible through the tripod', 'is considerably thinner throughout and thinnest at top, near shade', 'shorter, fatter', \"is not visible through shade's top\", 'lo9nger'], 'body': ['more curved', 'shaped like a cup or a trophy', 'rounded', 'is more arched', 'rectangular', 'gets smaller as it gets higher', 'contains bands', 'thicker'], 'base': ['not rectangular', 'not as smooth', 'slightly smaller around', 'is long and flat', 'is smoother', 'rectangular', 'angles up into the tube', 'much wider', 'is flat, circle shaped', 'contains circular decorations', 'is horn shaped', 'straight', 'tripod', 'is smaller', 'organic shape', 'square bottom', 'larger diameter', 'is larger', 'more intricate', 'consists of two parts', 'is shaped like a square', 'conical decorative', 'is more square', 'is conical (versus flat)', 'is less complex'], 'arms': ['curved'], 'middle': ['wheel shaped thing'], 'lightshade': ['thicker, rounded edges'], 'arm': ['bends to the right side', 'curves on the bottom'], 'pipe': ['on the outside of the rod is shorter'], 'post': ['very thin'], 'canopy': ['rectangular in shape and is wider'], 'center arm': ['shaped like a man'], 'lock': ['not visible'], 'pole carvings': ['more angular'], 'cable': ['shorter'], 'distractor': ['has something in it where the target looks empty by comparison', 'has four squished balls in the middle', \"has four feet that resemble an 'X'\"], 'connecting joint': ['more curved'], 'angles': ['hard'], 'frame': ['visible in the shade'], 'corners': ['2 curved pointed'], 'support rods': ['six that end in hooks'], 'lamp shade': ['is exposed on top so you can see the light bulb', 'smoother'], 'ring clips': ['2 around the pole at one end'], 'pole/wire': ['thinner'], 'shade top': ['plain', 'has a hanging loop attached'], 'head on the smaller arm': ['facing down'], 'light shade': ['donut shape'], 'vertical part': ['slimmer'], 'disc': ['small on the chain attaching it to the base'], 'vertical arms': ['thick'], 'lampshade': ['is thinner', 'is disc shaped'], 'holder': ['is a bit thicker'], 'hoops': ['are more closely spaced together'], 'top attachment': ['to the ceiling is half a sphere'], 'light bulb section': ['is shorter'], 'rod': ['extends out of the main post where the shade is connected'], 'bottom base': ['is more rectangle'], 'attachment': ['to the wire is tapered'], 'center': ['contains a long tube', \"cuts through the lamp shade's center\"], 'neck': ['is shorter', 'is tapered'], 'cable or wire hub': ['is larger'], 'above base': ['has a battery pack'], 'box at the top': ['is thicker'], 'area to place the bulb': ['is shorter'], 'bulb': ['is hemispherical'], 'lamp head': ['is longer and more tube-shaped', 'consists of many rounded oblong panels forming a spherical shape'], 'disk at the top': ['is thicker'], 'handle': ['has an additional large screw that is at a 45 degree angle to the fixture'], 'parts': ['are not in the same direction but different directions'], 'domes': ['are rounded'], 'light': ['points towards the ground', 'is not made from flat plates'], 'bar': ['does NOT make a T shape'], 'side bulb': ['has a larger, curved pole'], 'lamp base': ['is smaller circumference'], 'bottom part': ['is thicker'], 'central globe': ['is above the chandelier'], 'poles': ['are curved'], \"shade's inner part\": ['is more longer']}\n"
     ]
    }
   ],
   "source": [
    "print (part2Discription['lamp'])"
   ]
  },
  {
   "cell_type": "code",
   "execution_count": 53,
   "metadata": {},
   "outputs": [],
   "source": [
    "# answer = '''[\n",
    "#   {\"foot\": \"more round\"},\n",
    "#   {\"vase\": \"with beautiful color\"},\n",
    "#   {\"top\": \"has a longer head\"},\n",
    "#   {\"top\": \"is open\"},\n",
    "#   {\"vase\": \"has flowers in it\"},\n",
    "#   {\"top\": \"has a longer head\"}]'''\n",
    "# answer += ''\n",
    "# print (answer)\n",
    "# print (answer)\n",
    "# parsedStr = json.loads(answer)\n",
    "\n",
    "# vasePart2Discription = {}\n",
    "# for dictEle in parsedStr:\n",
    "#     for key in dictEle.keys():\n",
    "#         if key in vasePart2Discription:\n",
    "#             vasePart2Discription[key].add(dictEle[key])\n",
    "#         else:\n",
    "#             vasePart2Discription[key] = set()\n",
    "#             vasePart2Discription[key].add(dictEle[key])\n",
    "# # print (vasePart2Discription)\n",
    "# for key in vasePart2Discription.keys():\n",
    "#     vasePart2Discription[key] = list(vasePart2Discription[key])\n",
    "with open('Part2Discription', 'w') as f:\n",
    "    json.dump(part2Discription, f, indent=4)"
   ]
  },
  {
   "cell_type": "code",
   "execution_count": 8,
   "metadata": {},
   "outputs": [
    {
     "name": "stdout",
     "output_type": "stream",
     "text": [
      "'brim': ['thinner vertically', 'is taller vertically', 'circular all the way around', 'goes around the entire hat', 'flat', 'wider and asymmetrical', 'thin', 'is thinner', 'turns downward', 'smaller diameter', 'is puffed out', 'extends out and is more squarish at the front', 'thicker', 'only covers the front', 'thinner', 'diameter is smaller', 'rounded', 'faces downward', 'does not go all the way around', 'thinner around hat']\n"
     ]
    }
   ],
   "source": [
    "# 1：这个是基于用户问答做反馈\n",
    "ragClient = ragChat()\n",
    "Part2Discription = {}\n",
    "with open('Part2Discription', 'r') as f:\n",
    "    Part2Discription = json.load(f)\n",
    "query = '请问我可以对Brim做什么改动？'\n",
    "prompt_template2 = f\"\"\"请基于以下内容回答问题，并返回对应的条目原文，不要翻译\n",
    "\n",
    "内容:\n",
    "{Part2Discription['cap']}\n",
    "query:\n",
    "{query}\n",
    "\"\"\"\n",
    "ragClient.pushUserMessage(prompt_template2)\n",
    "answer = ragClient.getandpushGptMsg()\n",
    "print (answer)\n",
    "\n",
    "# 2：对用户输入prompt进行编码，做embedding相似的编辑方向推荐"
   ]
  }
 ],
 "metadata": {
  "kernelspec": {
   "display_name": "Python 3.10.12 ('myconda')",
   "language": "python",
   "name": "python3"
  },
  "language_info": {
   "codemirror_mode": {
    "name": "ipython",
    "version": 3
   },
   "file_extension": ".py",
   "mimetype": "text/x-python",
   "name": "python",
   "nbconvert_exporter": "python",
   "pygments_lexer": "ipython3",
   "version": "3.10.12"
  },
  "orig_nbformat": 4,
  "vscode": {
   "interpreter": {
    "hash": "ccc93251d6f721491c6fbc0c6bcbe4e9a605d28f77b9a8e19b15e1c61d18557e"
   }
  }
 },
 "nbformat": 4,
 "nbformat_minor": 2
}
